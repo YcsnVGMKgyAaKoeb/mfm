{
 "metadata": {
  "name": "",
  "signature": "sha256:c0dbb158a7555a063931360a2d9922322a02eb37d2df7df30e29c006ff1fe13d"
 },
 "nbformat": 3,
 "nbformat_minor": 0,
 "worksheets": [
  {
   "cells": [
    {
     "cell_type": "markdown",
     "metadata": {},
     "source": [
      "# MFM\n",
      "Tentative d'\u00e9criture d'application client/server multi utilisateur, multi espace de travail, multi modules\n",
      "## Fichiers de dev :\n",
      "Vues du repertoire de dev\n",
      "### mfm/"
     ]
    },
    {
     "cell_type": "code",
     "collapsed": false,
     "input": [
      "!ls -A --group-directories-first --ignore-backups --escape --quote-name --full-time --ignore=.ipynb_checkpoints ."
     ],
     "language": "python",
     "metadata": {},
     "outputs": [
      {
       "output_type": "stream",
       "stream": "stdout",
       "text": [
        "total 128\r\n",
        "drwxr-xr-x 3 rw rw  4096 2016-09-14 05:07:11.198911387 +0200 \"bin\"\r\n",
        "drwxr-xr-x 7 rw rw  4096 2016-10-23 10:59:27.169422522 +0200 \"src\"\r\n",
        "-rw-r--r-- 1 rw rw   889 2016-10-23 10:51:55.960192541 +0200 \"mfm.geany\"\r\n",
        "-rw------- 1 rw rw 23487 2016-10-23 15:12:48.527816684 +0200 \"mfm.ipynb\"\r\n",
        "-rw------- 1 rw rw  2585 2016-10-23 15:12:48.539816291 +0200 \"mfm.py\"\r\n",
        "-rw-r--r-- 1 rw rw   476 2016-10-20 09:30:02.290758378 +0200 \"requirements.txt\"\r\n",
        "-rwxr--r-- 1 rw rw  1083 2016-09-12 10:37:44.597346017 +0200 \"setup-pysqlcipher.sh\"\r\n",
        "-rwxr--r-- 1 rw rw   563 2016-09-12 10:49:53.308043900 +0200 \"setup-sqlcipher.sh\"\r\n",
        "-rwxr--r-- 1 rw rw   856 2016-09-12 10:06:08.811879959 +0200 \"setup-sqlite-closure.sh\"\r\n",
        "lrwxrwxrwx 1 rw rw    23 2016-10-19 12:31:25.616979142 +0200 \"test_create_db.py\" -> \"./src/test_create_db.py\"\r\n",
        "-rw-r--r-- 1 rw rw  2629 2016-10-20 09:50:25.855041073 +0200 \"try_find_date_in_string.py\"\r\n"
       ]
      }
     ],
     "prompt_number": 90
    },
    {
     "cell_type": "markdown",
     "metadata": {},
     "source": [
      "### mfm/src/"
     ]
    },
    {
     "cell_type": "code",
     "collapsed": false,
     "input": [
      "!ls -A --group-directories-first --ignore-backups --escape --quote-name --full-time --ignore=.ipynb_checkpoints src/"
     ],
     "language": "python",
     "metadata": {},
     "outputs": [
      {
       "output_type": "stream",
       "stream": "stdout",
       "text": [
        "total 26380\r\n",
        "drwxr-xr-x  2 rw rw     4096 2016-10-15 23:40:10.057844163 +0200 \"core\"\r\n",
        "drwxrwxr-x  3 rw rw     4096 2016-09-12 15:08:05.042281054 +0200 \"sql\"\r\n",
        "drwxrwxr-x 15 rw rw    12288 2016-09-12 10:54:19.028037606 +0200 \"sqlcipher\"\r\n",
        "drwxrwxr-x  4 rw rw     4096 2016-10-18 06:20:05.481767950 +0200 \"sqlite\"\r\n",
        "-rw-------  1 rw rw      402 2016-10-23 10:59:27.137423569 +0200 \"core.ipynb\"\r\n",
        "-rw-------  1 rw rw       67 2016-10-23 10:59:27.161422784 +0200 \"core.py\"\r\n",
        "-rw-r--r--  1 rw rw 16747520 2016-10-20 01:17:54.298156137 +0200 \"diaporama.db\"\r\n",
        "-rwxr-x--x  1 rw rw    16469 2016-10-21 20:26:40.631848100 +0200 \"diaporama.py\"\r\n",
        "-rw-r--r--  1 rw rw     8417 2016-10-23 10:56:48.110629200 +0200 \"image_browser.py\"\r\n",
        "-rw-r--r--  1 rw rw        0 2016-10-15 23:44:06.862169032 +0200 \"__init__.py\"\r\n",
        "-rw-r--r--  1 rw rw     2287 2016-10-19 16:33:31.827513591 +0200 \"test_create_db.py\"\r\n",
        "-rw-r--r--  1 rw rw      202 2016-09-09 14:36:24.761120202 +0200 \"test_create_filesystem_database.py\"\r\n",
        "-rw-r--r--  1 rw rw  9973760 2016-09-14 00:19:36.794656775 +0200 \"test_database_flat.db\"\r\n",
        "-rw-rw-r--  1 rw rw     1856 2016-10-17 23:59:24.631594540 +0200 \"test_database_flat.py\"\r\n",
        "-rw-r--r--  1 rw rw     2207 2016-09-14 00:59:36.003060260 +0200 \"test_database.py\"\r\n",
        "-rw-r--r--  1 rw rw     2994 2016-09-13 08:59:53.095321458 +0200 \"test_database.sql\"\r\n",
        "-rw-rw-r--  1 rw rw     1750 2016-09-16 21:53:52.820028353 +0200 \"test_database_tree.py\"\r\n",
        "-rw-r--r--  1 rw rw      984 2016-09-10 03:21:22.127861020 +0200 \"test_get_images_list.py\"\r\n",
        "-rw-r--r--  1 rw rw      558 2016-10-23 10:31:36.360115296 +0200 \"test_ipify.py\"\r\n",
        "-rw-r--r--  1 rw rw      501 2016-09-09 16:28:19.248869625 +0200 \"test_peewee_pysqlcipher3.py\"\r\n",
        "-rw-r--r--  1 rw rw     3072 2016-09-10 00:44:20.745245567 +0200 \"test_peewee_sqlite_closure.db\"\r\n",
        "-rw-r--r--  1 rw rw     4128 2016-09-10 00:44:14.365457001 +0200 \"test_peewee_sqlite_closure.py\"\r\n",
        "-rw-r--r--  1 rw rw      135 2016-09-08 05:49:35.634001545 +0200 \"test.py\"\r\n",
        "-rw-r--r--  1 rw rw      897 2016-09-10 02:22:03.570285831 +0200 \"test_pycrypto.py\"\r\n"
       ]
      }
     ],
     "prompt_number": 91
    },
    {
     "cell_type": "markdown",
     "metadata": {},
     "source": [
      "### src/core"
     ]
    },
    {
     "cell_type": "code",
     "collapsed": false,
     "input": [
      "!ls -A --group-directories-first --ignore-backups --escape --quote-name --full-time --ignore=.ipynb_checkpoints src/core"
     ],
     "language": "python",
     "metadata": {},
     "outputs": [
      {
       "output_type": "stream",
       "stream": "stdout",
       "text": [
        "total 44\r\n",
        "-rw-r--r-- 1 rw rw   24 2016-10-15 23:40:10.057844163 +0200 \"client.py\"\r\n",
        "-rw---S--- 1 rw rw    0 2016-10-15 21:00:25.288498822 +0200 \"__init__.py\"\r\n",
        "-rw-r--r-- 1 rw rw   24 2016-10-15 23:38:29.757095039 +0200 \"server.py\"\r\n",
        "-rw---S--- 1 rw rw 2615 2016-10-15 23:26:07.701146023 +0200 \"watcher.py\"\r\n"
       ]
      }
     ],
     "prompt_number": 92
    },
    {
     "cell_type": "markdown",
     "metadata": {},
     "source": [
      "## Id\u00e9es"
     ]
    },
    {
     "cell_type": "markdown",
     "metadata": {},
     "source": [
      "### serveur"
     ]
    },
    {
     "cell_type": "markdown",
     "metadata": {},
     "source": [
      "#### pr\u00e9requis"
     ]
    },
    {
     "cell_type": "markdown",
     "metadata": {},
     "source": [
      "- une paire de clef priv\u00e9/publique "
     ]
    },
    {
     "cell_type": "code",
     "collapsed": false,
     "input": [
      "def get_new_gpg_keypair():\n",
      "    \"\"\" This function must return a tuple of (private, public)\n",
      "        gpg key strings\n",
      "    \"\"\"\n",
      "    return (\"private_key\", \"public_key\")"
     ],
     "language": "python",
     "metadata": {},
     "outputs": [],
     "prompt_number": 16
    },
    {
     "cell_type": "markdown",
     "metadata": {},
     "source": [
      "### client"
     ]
    },
    {
     "cell_type": "markdown",
     "metadata": {},
     "source": [
      "## procedures"
     ]
    },
    {
     "cell_type": "markdown",
     "metadata": {},
     "source": [
      "### au d\u00e9marrage de l'application"
     ]
    },
    {
     "cell_type": "markdown",
     "metadata": {},
     "source": [
      "- ouvrir et obtenir le contenu d'un dossier:"
     ]
    },
    {
     "cell_type": "code",
     "collapsed": false,
     "input": [
      "class IsNotDirError(Exception): \n",
      "    \n",
      "    def __init__(self, msg):\n",
      "        msg = \"(%s) directory not found\" % msg\n",
      "        super().__init__(msg)\n",
      "        "
     ],
     "language": "python",
     "metadata": {},
     "outputs": [],
     "prompt_number": 4
    },
    {
     "cell_type": "code",
     "collapsed": false,
     "input": [
      "from collections import namedtuple\n",
      "from os import walk\n",
      "from os.path import isdir, islink, join, split, expanduser, expandvars, realpath\n",
      "\n",
      "def Dir(d):\n",
      "    \"\"\" return a namedtuple : \n",
      "        Directory(name, path, parent, dirs, files, links, content)\n",
      "    \"\"\"\n",
      "    if not isdir(d): raise IsNotDirError(d)\n",
      "    nt = namedtuple(\"Directory\", \"name, path, parent, dirs, files, links, content\")\n",
      "    path, dirs, files = next(walk(d))\n",
      "    parent, name = split(path)\n",
      "    content = dirs + files\n",
      "    links = [x for x in content if islink(join(path, x))]\n",
      "    return nt(name, path, parent, dirs, files, links, content)"
     ],
     "language": "python",
     "metadata": {},
     "outputs": [],
     "prompt_number": 93
    },
    {
     "cell_type": "code",
     "collapsed": false,
     "input": [
      "from os.path import expanduser\n",
      "d = expanduser('.')\n",
      "ntd = Dir(d)\n",
      "print(d)\n",
      "print(ntd.links)"
     ],
     "language": "python",
     "metadata": {},
     "outputs": [
      {
       "output_type": "stream",
       "stream": "stdout",
       "text": [
        ".\n",
        "['test_create_db.py']\n"
       ]
      }
     ],
     "prompt_number": 37
    },
    {
     "cell_type": "code",
     "collapsed": false,
     "input": [
      "from os.path import isfile, isdir\n",
      "\n",
      "def ls(target, *, stats=True, dot=False):\n",
      "    if isfile(target):\n",
      "        to_print = [ target, ]\n",
      "    elif isdir(target):\n",
      "        target_dir = Dir(target)\n",
      "        to_print = target_dir.content\n",
      "    else:\n",
      "        raise(OSError(\"target must be a file or dir !\"))\n",
      "    if not dot:\n",
      "        to_print = [x for x in to_print if not x.startswith('.')]\n",
      "    if stats:\n",
      "        pass\n",
      "    for e in sorted(to_print):\n",
      "        print(e)"
     ],
     "language": "python",
     "metadata": {},
     "outputs": [],
     "prompt_number": 34
    },
    {
     "cell_type": "code",
     "collapsed": false,
     "input": [
      "from os.path import expanduser\n",
      "d = expanduser('.')\n",
      "\n",
      "ls(d)"
     ],
     "language": "python",
     "metadata": {},
     "outputs": [
      {
       "output_type": "stream",
       "stream": "stdout",
       "text": [
        "bin\n",
        "mfm.geany\n",
        "mfm.ipynb\n",
        "mfm.py\n",
        "requirements.txt\n",
        "setup-pysqlcipher.sh\n",
        "setup-sqlcipher.sh\n",
        "setup-sqlite-closure.sh\n",
        "src\n",
        "test_create_db.py\n",
        "try_find_date_in_string.py\n"
       ]
      }
     ],
     "prompt_number": 36
    },
    {
     "cell_type": "code",
     "collapsed": false,
     "input": [],
     "language": "python",
     "metadata": {},
     "outputs": []
    }
   ],
   "metadata": {}
  }
 ]
}