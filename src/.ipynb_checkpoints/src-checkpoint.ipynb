{
 "metadata": {
  "name": "",
  "signature": "sha256:15522819a8e2ee9b9bff2e04d45e014ab46c6daca57bc89b3c9f5814c4445bab"
 },
 "nbformat": 3,
 "nbformat_minor": 0,
 "worksheets": [
  {
   "cells": [
    {
     "cell_type": "markdown",
     "metadata": {},
     "source": [
      "~~~~\n",
      "!feh --scale-down --auto-zoom /home/rw/images/ipynb-shortcuts-vertical.png --image-bg black\n",
      "~~~~"
     ]
    },
    {
     "cell_type": "markdown",
     "metadata": {},
     "source": [
      "## MFM Exceptions"
     ]
    },
    {
     "cell_type": "markdown",
     "metadata": {},
     "source": [
      "### dossier source"
     ]
    },
    {
     "cell_type": "code",
     "collapsed": false,
     "input": [
      "!ls core/errors/"
     ],
     "language": "python",
     "metadata": {},
     "outputs": [
      {
       "output_type": "stream",
       "stream": "stdout",
       "text": [
        "__init__.py  notimplemented.py\t__pycache__\r\n"
       ]
      }
     ],
     "prompt_number": 56
    },
    {
     "cell_type": "code",
     "collapsed": false,
     "input": [
      "from core.errors import NotImplementedError"
     ],
     "language": "python",
     "metadata": {},
     "outputs": [],
     "prompt_number": 1
    },
    {
     "cell_type": "code",
     "collapsed": false,
     "input": [
      "def get_public_ip():\n",
      "    \"\"\" Return internet public ip \"\"\"\n",
      "    raise NotImplementedError(get_public_ip)"
     ],
     "language": "python",
     "metadata": {},
     "outputs": [],
     "prompt_number": 2
    },
    {
     "cell_type": "code",
     "collapsed": false,
     "input": [
      "try:\n",
      "    get_public_ip()\n",
      "except NotImplementedError:\n",
      "    print(\"damned ! i'm done\")"
     ],
     "language": "python",
     "metadata": {},
     "outputs": [
      {
       "output_type": "stream",
       "stream": "stderr",
       "text": [
        "WARNING:root:(function.get_public_ip) should (Return internet public ip) and does not the job!\n"
       ]
      },
      {
       "output_type": "stream",
       "stream": "stdout",
       "text": [
        "damned ! i'm done\n"
       ]
      }
     ],
     "prompt_number": 3
    },
    {
     "cell_type": "code",
     "collapsed": false,
     "input": [
      "from os import walk\n",
      "d = \"/home/rw/dev/mfm/src\"\n",
      "c = sorted(next(walk(d))[1] + next(walk(d))[2])\n",
      "for e in c: print(e)"
     ],
     "language": "python",
     "metadata": {},
     "outputs": [
      {
       "output_type": "stream",
       "stream": "stdout",
       "text": [
        ".ipynb_checkpoints\n",
        "__init__.py\n",
        "core\n",
        "core.ipynb\n",
        "core.py\n",
        "diaporama.db\n",
        "diaporama.py\n",
        "image_browser.py\n",
        "sql\n",
        "sqlcipher\n",
        "sqlite\n",
        "src.ipynb\n",
        "src.py\n",
        "test.py\n",
        "test_create_db.py\n",
        "test_create_filesystem_database.py\n",
        "test_database.py\n",
        "test_database.sql\n",
        "test_database_flat.db\n",
        "test_database_flat.py\n",
        "test_database_tree.py\n",
        "test_get_images_list.py\n",
        "test_ipify.py\n",
        "test_peewee_pysqlcipher3.py\n",
        "test_peewee_sqlite_closure.db\n",
        "test_peewee_sqlite_closure.py\n",
        "test_pycrypto.py\n"
       ]
      }
     ],
     "prompt_number": 20
    }
   ],
   "metadata": {}
  }
 ]
}